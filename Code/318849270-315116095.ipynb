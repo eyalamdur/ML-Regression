{
 "cells": [
  {
   "cell_type": "markdown",
   "metadata": {},
   "source": [
    "# HW3 - Regression"
   ]
  },
  {
   "cell_type": "markdown",
   "metadata": {},
   "source": [
    "## Imports & Style edit"
   ]
  },
  {
   "cell_type": "code",
   "execution_count": 1,
   "metadata": {},
   "outputs": [],
   "source": [
    "import numpy as np\n",
    "import pandas as pd\n",
    "import matplotlib.pyplot as plt\n",
    "import seaborn as sns\n"
   ]
  },
  {
   "cell_type": "code",
   "execution_count": 2,
   "metadata": {},
   "outputs": [],
   "source": [
    "# Required test style for matplotlib.\n",
    "from matplotlib import pylab\n",
    "params = {'xtick.labelsize': 18,\n",
    "          'ytick.labelsize': 18,\n",
    "          'axes.titlesize' : 22,\n",
    "          'axes.labelsize' : 20,\n",
    "          'legend.fontsize': 18,\n",
    "          'legend.title_fontsize': 22,\n",
    "          'figure.titlesize': 24 }\n",
    "pylab.rcParams.update(params)"
   ]
  },
  {
   "cell_type": "code",
   "execution_count": 3,
   "metadata": {},
   "outputs": [],
   "source": [
    "def visualize_clf(clf, X, Y, title, \n",
    "                  xlabel, ylabel,\n",
    "                  marker_size=50,\n",
    "                  grid_length=300,\n",
    "                  linewidths=None):\n",
    "    import matplotlib.pyplot as plt\n",
    "    import pandas as pd\n",
    "    from matplotlib.colors import ListedColormap\n",
    "    \n",
    "    if isinstance(X, pd.DataFrame):\n",
    "        X = X.to_numpy()\n",
    "        \n",
    "    # For internal use here, make sure labels are 0 and 1\n",
    "    Y = np.ravel(Y).astype(int)\n",
    "    labels = set(Y)\n",
    "    assert len(labels) == 2, \"Can only visualize two unique labels\"\n",
    "\n",
    "    if labels == set([-1,1]):\n",
    "      Y = (Y + 1) // 2\n",
    "      labels = set(Y)\n",
    "    \n",
    "    assert labels == set([0,1]), \"Could not handle given labels\"\n",
    "\n",
    "    plt.figure(figsize=(8, 8))\n",
    "\n",
    "    # Parameters\n",
    "    n_classes = 2\n",
    "    markers = [\"D\", \"o\"]\n",
    "    palette = sns.color_palette(\"hls\", 2)\n",
    "    custom_cmap = ListedColormap(palette.as_hex())\n",
    "\n",
    "    x_delta = np.abs(X[:, 0].max() - X[:, 0].min()) * 0.1\n",
    "    y_delta = np.abs(X[:, 1].max() - X[:, 1].min()) * 0.1\n",
    "    x_min, x_max = X[:, 0].min() - x_delta, X[:, 0].max() + x_delta\n",
    "    y_min, y_max = X[:, 1].min() - y_delta, X[:, 1].max() + y_delta\n",
    "    xx, yy = np.meshgrid(np.linspace(x_min, x_max, grid_length),\n",
    "                         np.linspace(y_min, y_max, grid_length))\n",
    "    plt.tight_layout(h_pad=0.5, w_pad=0.5, pad=2.5)\n",
    "\n",
    "    Z = clf.predict(np.c_[xx.ravel(), yy.ravel()])\n",
    "    Z = Z.reshape(xx.shape)\n",
    "\n",
    "    cs = plt.contourf(xx, yy, Z, cmap=custom_cmap, alpha=0.35)\n",
    "\n",
    "    plt.xlabel(xlabel)\n",
    "    plt.ylabel(ylabel)\n",
    "    plt.grid(alpha=0.75)\n",
    "\n",
    "    # Plot the training points\n",
    "    for i, color, marker in zip(labels, palette, markers):\n",
    "        idx = np.where(Y == i)\n",
    "        plt.scatter(X[idx, 0], X[idx, 1], color=color,\n",
    "                    marker=marker,\n",
    "                    edgecolor='white', s=marker_size,\n",
    "                    linewidths=linewidths)\n",
    "\n",
    "    plt.title(title, fontsize=20)\n",
    "    plt.axis(\"tight\")\n",
    "    plt.show()"
   ]
  },
  {
   "cell_type": "markdown",
   "metadata": {},
   "source": [
    "## Preliminary: Data Loading"
   ]
  },
  {
   "cell_type": "code",
   "execution_count": 4,
   "metadata": {},
   "outputs": [],
   "source": [
    "# We load the data from the 2 csv files: training_set.csv and test_set.csv.\n",
    "# Those files were generated in the previous homework.\n",
    "\n",
    "# !rm *.csv\n",
    "\n",
    "# from google.colab import files\n",
    "# print(\"Please load the modified Traing set csv data\")\n",
    "# uploadedData = files.upload()\n",
    "# training_set_file = list(uploadedData)[0]\n",
    "\n",
    "# print(\"Please load the modified Test set csv data\")\n",
    "# uploadedData = files.upload()\n",
    "# test_set_file = list(uploadedData)[0]\n",
    "training_set_file = \"training_set.csv\"\n",
    "test_set_file = \"test_set.csv\""
   ]
  },
  {
   "cell_type": "code",
   "execution_count": 5,
   "metadata": {},
   "outputs": [],
   "source": [
    "training_set = pd.read_csv(training_set_file)\n",
    "test_set = pd.read_csv(test_set_file)"
   ]
  }
 ],
 "metadata": {
  "kernelspec": {
   "display_name": "Python 3",
   "language": "python",
   "name": "python3"
  },
  "language_info": {
   "codemirror_mode": {
    "name": "ipython",
    "version": 3
   },
   "file_extension": ".py",
   "mimetype": "text/x-python",
   "name": "python",
   "nbconvert_exporter": "python",
   "pygments_lexer": "ipython3",
   "version": "3.12.8"
  }
 },
 "nbformat": 4,
 "nbformat_minor": 2
}
